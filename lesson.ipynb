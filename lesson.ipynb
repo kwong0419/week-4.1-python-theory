{
 "cells": [
  {
   "cell_type": "markdown",
   "metadata": {},
   "source": [
    "## Lists in Python\n",
    "\n",
    "Lists in Python are similar to arrays in JavaScript. They are ordered, mutable collections that can contain elements of different types. Lists are defined using square brackets `[]` and elements are separated by commas.\n",
    "\n",
    "### Creating Lists"
   ]
  },
  {
   "cell_type": "code",
   "execution_count": null,
   "metadata": {},
   "outputs": [],
   "source": [
    "# Creating a list\n",
    "fruits = [\"apple\", \"banana\", \"cherry\"]\n",
    "print(fruits)\n",
    "\n",
    "# Lists can contain different types\n",
    "mixed_list = [1, \"two\", 3.0, True]\n",
    "print(mixed_list)"
   ]
  },
  {
   "cell_type": "markdown",
   "metadata": {},
   "source": [
    "### Indexing and Slicing\n",
    "\n",
    "Python uses zero-based indexing, just like JavaScript. \n",
    "Additionally, Python supports negative indexing, which allows you to access elements from the end of the list. When using negative indexing, the index starts at -1 for the last element, -2 for the second last, and so on."
   ]
  },
  {
   "cell_type": "code",
   "execution_count": null,
   "metadata": {},
   "outputs": [],
   "source": [
    "# Indexing\n",
    "print(fruits[0])  # First item\n",
    "print(fruits[-1])  # Last item\n",
    "print(fruits[2])  # Third item  \n",
    "print(fruits[-2])  # Second last item"
   ]
  },
  {
   "cell_type": "markdown",
   "metadata": {},
   "source": [
    "### Slicing\n",
    "\n",
    "Slicing in Python allows you to access a subset of elements from a list. The syntax for slicing is `list[start:stop:step]`, where `start` is the index to begin the slice, `stop` is the index to end the slice (exclusive), and `step` is the interval between elements in the slice. All three parameters are optional.\n",
    "\n",
    "- `start`: The beginning index of the slice. If omitted, the slice starts from the beginning of the list.\n",
    "- `stop`: The ending index of the slice (exclusive). If omitted, the slice goes until the end of the list.\n",
    "- `step`: The step size or interval between elements. If omitted, the default step size is 1.\n",
    "\n",
    "Examples:"
   ]
  },
  {
   "cell_type": "code",
   "execution_count": null,
   "metadata": {},
   "outputs": [],
   "source": [
    "fruits = [\"apple\", \"banana\", \"cherry\", \"date\", \"elderberry\"]\n",
    "\n",
    "# Slicing\n",
    "print(fruits[1:3])  # From index 1 to 2 (exclusive of 3)\n",
    "print(fruits[:3])  # From start to index 2\n",
    "print(fruits[2:])  # From index 2 to end\n",
    "print(fruits[::2])  # Every second item\n"
   ]
  },
  {
   "cell_type": "markdown",
   "metadata": {},
   "source": [
    "One fun slice trick to remember is how to reverse a list:"
   ]
  },
  {
   "cell_type": "code",
   "execution_count": null,
   "metadata": {},
   "outputs": [],
   "source": [
    "print(fruits[::-1])  # Reverse the list\n"
   ]
  },
  {
   "cell_type": "markdown",
   "metadata": {},
   "source": [
    "### Common List Methods\n",
    "\n",
    "Python list methods are similar to JavaScript array methods, but there are some differences. \n",
    "\n",
    "### Append Method\n",
    "Python lists have the `append` method, which is similar to JavaScript's `push` method, but Python does not have a direct equivalent to JavaScript's `shift` and `unshift` methods. Additionally, Python lists use `remove` to delete the first occurrence of a value, whereas JavaScript arrays use `splice` to remove elements at a specific index.\n",
    "\n",
    "\n",
    "Example:\n"
   ]
  },
  {
   "cell_type": "code",
   "execution_count": 3,
   "metadata": {},
   "outputs": [
    {
     "name": "stdout",
     "output_type": "stream",
     "text": [
      "['apple', 'banana', 'cherry']\n"
     ]
    }
   ],
   "source": [
    "fruits = [\"apple\", \"banana\", \"cherry\"]\n",
    "\n",
    "# Append (similar to JavaScript push)\n",
    "fruits.append(\"date\")\n",
    "fruits.pop()\n",
    "print(fruits)\n",
    "# output: ['apple', 'banana', 'cherry', 'date']"
   ]
  },
  {
   "cell_type": "markdown",
   "metadata": {},
   "source": [
    "Equivalent in JavaScript:\n",
    "```js\n",
    "  fruits.push(\"date\");\n",
    "  console.log(fruits);  \n",
    "  // output: ['apple', 'banana', 'cherry', 'date']\n",
    "```"
   ]
  },
  {
   "cell_type": "markdown",
   "metadata": {},
   "source": [
    "### Extend Method\n",
    "\n",
    "The `extend` method in Python is used to add multiple elements to the end of a list. It takes an iterable (such as a list, tuple, or string) as an argument and appends each element of the iterable to the list. This is similar to using the `+=` operator with lists."
   ]
  },
  {
   "cell_type": "code",
   "execution_count": 5,
   "metadata": {},
   "outputs": [
    {
     "name": "stdout",
     "output_type": "stream",
     "text": [
      "['apple', 'banana', 'cherry', 'date', 'elderberry', 'fig']\n"
     ]
    }
   ],
   "source": [
    "fruits = [\"apple\", \"banana\", \"cherry\", \"date\"]\n",
    "# Extend (add multiple elements)\n",
    "fruits.extend([\"elderberry\", \"fig\"])\n",
    "print(fruits)\n",
    "# output: ['apple', 'banana', 'cherry', 'date', 'elderberry', 'fig']\n"
   ]
  },
  {
   "cell_type": "markdown",
   "metadata": {},
   "source": [
    "Equivalent in JavaScript:\n",
    "     ```js\n",
    "      fruits.push(\"elderberry\", \"fig\");\n",
    "      console.log(fruits);  \n",
    "    // output: ['apple', 'banana', 'cherry', 'date', 'elderberry', 'fig']\n",
    "    ```"
   ]
  },
  {
   "cell_type": "markdown",
   "metadata": {},
   "source": [
    "### Insert Method\n",
    "\n",
    "The `insert` method in Python is used to insert an element at a specific position in the list. It takes two arguments: the index at which to insert the element and the element to be inserted."
   ]
  },
  {
   "cell_type": "code",
   "execution_count": 6,
   "metadata": {},
   "outputs": [
    {
     "name": "stdout",
     "output_type": "stream",
     "text": [
      "['apple', 'apricot', 'banana', 'cherry', 'date', 'elderberry', 'fig']\n"
     ]
    }
   ],
   "source": [
    "fruits = ['apple', 'banana', 'cherry', 'date', 'elderberry', 'fig']\n",
    "# Insert\n",
    "fruits.insert(1, \"apricot\")\n",
    "print(fruits)\n",
    "# output: ['apple', 'apricot', 'banana', 'cherry', 'date', 'elderberry', 'fig']"
   ]
  },
  {
   "cell_type": "markdown",
   "metadata": {},
   "source": [
    "Equivalent in JavaScript:\n",
    "\n",
    "```js\n",
    "  fruits.splice(1, 0, \"apricot\");\n",
    "  console.log(fruits);  \n",
    "  // output: ['apple', 'apricot', 'banana', 'cherry', 'date', 'elderberry', 'fig']\n",
    "```"
   ]
  },
  {
   "cell_type": "markdown",
   "metadata": {},
   "source": [
    "### Remove Method\n",
    "\n",
    "The `remove` method in Python is used to remove the first occurrence of a value from the list."
   ]
  },
  {
   "cell_type": "code",
   "execution_count": 7,
   "metadata": {},
   "outputs": [
    {
     "name": "stdout",
     "output_type": "stream",
     "text": [
      "['apple', 'apricot', 'cherry', 'date', 'elderberry', 'fig']\n"
     ]
    }
   ],
   "source": [
    "fruits = ['apple', 'apricot', 'banana', 'cherry', 'date', 'elderberry', 'fig']\n",
    "# Remove (removes first occurrence)\n",
    "fruits.remove(\"banana\")\n",
    "print(fruits)\n",
    "# output: [‘apple’, ‘apricot’, ‘cherry’, ‘date’, elderberry, ‘fig’];"
   ]
  },
  {
   "cell_type": "markdown",
   "metadata": {},
   "source": [
    "Equivalent in JavaScript:\n",
    "\n",
    "```js\n",
    "fruits.splice(fruits.indexOf(\"banana\"), 1);\n",
    "console.log(fruits);\n",
    "// output: ['apple', 'apricot', 'cherry', 'date', 'elderberry', 'fig']\n",
    "```"
   ]
  },
  {
   "cell_type": "markdown",
   "metadata": {},
   "source": [
    "### Pop Method\n",
    "\n",
    "The `pop` method in Python is used to remove and return an item at a specific index from the list. If no index is specified, it removes and returns the last item from the list. If you set a variable to the `pop` method, it will return the popped item just like in JavaScript."
   ]
  },
  {
   "cell_type": "code",
   "execution_count": 10,
   "metadata": {},
   "outputs": [
    {
     "name": "stdout",
     "output_type": "stream",
     "text": [
      "Popped: fig\n",
      "['apple', 'apricot', 'banana', 'cherry', 'date', 'elderberry']\n"
     ]
    }
   ],
   "source": [
    "fruits = ['apple', 'apricot', 'banana', 'cherry', 'date', 'elderberry', 'fig']\n",
    "# Pop (removes and returns item at index, default is last item)\n",
    "popped = fruits.pop()\n",
    "print(f\"Popped: {popped}\")\n",
    "# output: \"Popped: fig\"\n",
    "print(fruits)\n",
    "# output: ['apple', 'apricot', 'banana', 'cherry', 'date', 'elderberry']"
   ]
  },
  {
   "cell_type": "markdown",
   "metadata": {},
   "source": [
    "### Sort Method\n",
    "\n",
    "The `sort` method in Python is used to sort the list in ascending order."
   ]
  },
  {
   "cell_type": "code",
   "execution_count": 12,
   "metadata": {},
   "outputs": [
    {
     "name": "stdout",
     "output_type": "stream",
     "text": [
      "['apple', 'apricot', 'banana', 'cherry', 'date', 'elderberry']\n"
     ]
    }
   ],
   "source": [
    "fruits = ['apple', 'banana', 'elderberry', 'cherry', 'date', 'apricot']\n",
    "# Sort (in-place sorting)\n",
    "fruits.sort()\n",
    "print(fruits)\n",
    "# output: ['apple', 'apricot', 'banana', 'cherry', 'date', 'elderberry']"
   ]
  },
  {
   "cell_type": "markdown",
   "metadata": {},
   "source": [
    "To sort numbers you do not need to use the callback function with the subtraction trick as you do in JavaScript, Python can sort numbers just fine."
   ]
  },
  {
   "cell_type": "code",
   "execution_count": 13,
   "metadata": {},
   "outputs": [
    {
     "name": "stdout",
     "output_type": "stream",
     "text": [
      "[1, 2, 3, 5, 8, 11]\n"
     ]
    }
   ],
   "source": [
    "numbers = [5, 2, 8, 1, 3, 11]\n",
    "numbers.sort()\n",
    "print(numbers)\n",
    "# output: [1, 2, 3, 5, 8, 11]"
   ]
  },
  {
   "cell_type": "markdown",
   "metadata": {},
   "source": [
    "### Reverse Method\n",
    "\n",
    "The `reverse` method in Python is used to reverse the list in place. This is similar to JavaScript's `reverse` method."
   ]
  },
  {
   "cell_type": "code",
   "execution_count": 14,
   "metadata": {},
   "outputs": [
    {
     "name": "stdout",
     "output_type": "stream",
     "text": [
      "['fig', 'elderberry', 'date', 'cherry', 'banana', 'apricot', 'apple']\n"
     ]
    }
   ],
   "source": [
    "fruits = ['apple', 'apricot', 'banana', 'cherry', 'date', 'elderberry', 'fig']\n",
    "\n",
    "# Reverse\n",
    "fruits.reverse()\n",
    "print(fruits)\n",
    "# output: ['fig', 'elderberry', 'date', 'cherry', 'banana', 'apricot', 'apple']"
   ]
  },
  {
   "cell_type": "markdown",
   "metadata": {},
   "source": [
    "### List Comprehensions\n",
    "\n",
    "List comprehensions are a powerful feature in Python, not present in JavaScript. They provide a concise way to create lists based on existing lists. You can also incorporate loops within list comprehensions to generate lists dynamically. For example, you can use a for loop inside a list comprehension to iterate over a range or another list and apply an expression to each item. Additionally, you can include conditional statements to filter items within the loop."
   ]
  },
  {
   "cell_type": "code",
   "execution_count": null,
   "metadata": {},
   "outputs": [],
   "source": [
    "# Create a list of squares\n",
    "squares = [x**2 for x in range(10)]\n",
    "print(squares)\n",
    "# output: [0, 1, 4, 9, 16, 25, 36, 49, 64, 81]\n",
    "\n",
    "# Create a list of even numbers\n",
    "evens = [x for x in range(20) if x % 2 == 0]\n",
    "print(evens)\n",
    "# output: [0, 2, 4, 6, 8, 10, 12, 14, 16, 18]"
   ]
  },
  {
   "cell_type": "markdown",
   "metadata": {},
   "source": [
    "## Tuples in Python\n",
    "\n",
    "Tuples are sequences in Python. They are similar to lists but cannot be changed after creation. Tuples are immutable, which means their contents cannot be changed once they are created. This immutability can be a significant advantage in situations where you need to ensure that the data remains constant. For example, when representing coordinates, dates, or other fixed data structures, tuples can provide a clear and efficient way to handle the data.\n",
    "\n",
    "### Creating Tuples\n",
    "\n",
    "Tuples are defined using parentheses `()` and elements are separated by commas."
   ]
  },
  {
   "cell_type": "code",
   "execution_count": 17,
   "metadata": {},
   "outputs": [
    {
     "name": "stdout",
     "output_type": "stream",
     "text": [
      "(10, 20)\n"
     ]
    }
   ],
   "source": [
    "# Creating a tuple\n",
    "coordinates = (10, 20)\n",
    "print(coordinates)\n",
    "# output: (10, 20)"
   ]
  },
  {
   "cell_type": "markdown",
   "metadata": {},
   "source": [
    "Tuple packing is the process of assigning multiple values to a single variable in a single statement."
   ]
  },
  {
   "cell_type": "code",
   "execution_count": 18,
   "metadata": {},
   "outputs": [
    {
     "name": "stdout",
     "output_type": "stream",
     "text": [
      "('John', 30, 'New York')\n"
     ]
    }
   ],
   "source": [
    "# Tuple packing\n",
    "person = \"John\", 30, \"New York\"\n",
    "print(person)\n",
    "# output: ('John', 30, 'New York')"
   ]
  },
  {
   "cell_type": "markdown",
   "metadata": {},
   "source": [
    "**Note:** For single element tuples you need to include the comma otherwise Python will not recognize it as a tuple."
   ]
  },
  {
   "cell_type": "code",
   "execution_count": 19,
   "metadata": {},
   "outputs": [
    {
     "name": "stdout",
     "output_type": "stream",
     "text": [
      "(5,)\n"
     ]
    }
   ],
   "source": [
    "# Single-element tuple (note the comma)\n",
    "single_element = (5,)\n",
    "print(single_element)\n",
    "# output: (5,)"
   ]
  },
  {
   "cell_type": "markdown",
   "metadata": {},
   "source": [
    "### Tuple Immutability\n",
    "\n",
    "Tuples are immutable, which means their contents cannot be changed once they are created. This immutability can be a significant advantage in situations where you need to ensure that the data remains constant. For example, when representing coordinates, dates, or other fixed data structures, tuples can provide a clear and efficient way to handle the data."
   ]
  },
  {
   "cell_type": "code",
   "execution_count": 20,
   "metadata": {},
   "outputs": [
    {
     "name": "stdout",
     "output_type": "stream",
     "text": [
      "Error: 'tuple' object does not support item assignment\n"
     ]
    }
   ],
   "source": [
    "coordinates = (10, 20)\n",
    "try:\n",
    "    coordinates[0] = 15  # This will raise a TypeError\n",
    "except TypeError as e:\n",
    "    print(f\"Error: {e}\")\n",
    "\n",
    "#output: Error: 'tuple' object does not support item assignment"
   ]
  },
  {
   "cell_type": "markdown",
   "metadata": {},
   "source": [
    "However, you can reassign the entire tuple.\n"
   ]
  },
  {
   "cell_type": "code",
   "execution_count": 21,
   "metadata": {},
   "outputs": [
    {
     "name": "stdout",
     "output_type": "stream",
     "text": [
      "(15, 25)\n"
     ]
    }
   ],
   "source": [
    "coordinates = (15, 25)\n",
    "print(coordinates)\n",
    "# output: (15, 25)"
   ]
  },
  {
   "cell_type": "markdown",
   "metadata": {},
   "source": [
    "Also, similar to array destructuring in JavaScript, you can destructure tuples"
   ]
  },
  {
   "cell_type": "code",
   "execution_count": 22,
   "metadata": {},
   "outputs": [
    {
     "name": "stdout",
     "output_type": "stream",
     "text": [
      "15 25\n"
     ]
    }
   ],
   "source": [
    "x, y = coordinates\n",
    "print(x, y)\n",
    "# output: 15 25"
   ]
  },
  {
   "cell_type": "markdown",
   "metadata": {},
   "source": [
    "JavaScript equivalent:\n",
    "\n",
    "```javascript\n",
    "const coordinates = [15, 25];\n",
    "const [x, y] = coordinates;\n",
    "console.log(x, y);\n",
    "// output: 15 25\n",
    "```"
   ]
  },
  {
   "cell_type": "markdown",
   "metadata": {},
   "source": [
    "## Loops in Python\n",
    "\n",
    "Python's loop syntax is quite different from JavaScript's, but the concepts are similar.\n",
    "\n",
    "### For Loops\n",
    "\n",
    "The `for...in` loop in Python is used to iterate over a sequence (such as a list, tuple, or string) and execute a block of code for each item in the sequence. "
   ]
  },
  {
   "cell_type": "code",
   "execution_count": 23,
   "metadata": {},
   "outputs": [
    {
     "name": "stdout",
     "output_type": "stream",
     "text": [
      "apple\n",
      "banana\n",
      "cherry\n"
     ]
    }
   ],
   "source": [
    "# Iterating over a list\n",
    "fruits = [\"apple\", \"banana\", \"cherry\"]\n",
    "for fruit in fruits:\n",
    "    print(fruit)"
   ]
  },
  {
   "cell_type": "markdown",
   "metadata": {},
   "source": [
    "Equivalent in JavaScript:\n",
    "\n",
    "```js\n",
    "  for (let fruit of fruits) {\n",
    "      console.log(fruit);\n",
    "  }\n",
    "```"
   ]
  },
  {
   "cell_type": "markdown",
   "metadata": {},
   "source": [
    "### Loop Control Statements\n",
    "You can loop based on a range of numbers, but you can also loop based on a range of numbers in reverse.\n",
    "\n",
    "Both break and continue work the same way they do in JavaScript."
   ]
  },
  {
   "cell_type": "code",
   "execution_count": 15,
   "metadata": {},
   "outputs": [
    {
     "name": "stdout",
     "output_type": "stream",
     "text": [
      "0\n",
      "1\n",
      "2\n",
      "4\n",
      "5\n",
      "6\n",
      "10\n",
      "9\n",
      "8\n",
      "7\n",
      "6\n",
      "5\n",
      "4\n",
      "3\n",
      "2\n",
      "1\n"
     ]
    }
   ],
   "source": [
    "for i in range(10):\n",
    "    if i == 3:\n",
    "        continue  # Skip 3\n",
    "    if i == 7:\n",
    "        break  # Stop at 7\n",
    "    print(i)\n",
    "\n",
    "# Reverse loop\n",
    "for i in range(10, 0, -1):\n",
    "    print(i)"
   ]
  },
  {
   "cell_type": "markdown",
   "metadata": {},
   "source": [
    "Notice that you can use `break` and `continue` in a for loop just like in JavaScript.\n"
   ]
  },
  {
   "cell_type": "markdown",
   "metadata": {},
   "source": [
    "### Enumerate Function for Indexing and Iterating\n",
    "\n",
    "Different from JavaScript, you can use the `enumerate` function to get the index of the item in the list. This is a very efficient way to iterate over a list."
   ]
  },
  {
   "cell_type": "code",
   "execution_count": 16,
   "metadata": {},
   "outputs": [
    {
     "name": "stdout",
     "output_type": "stream",
     "text": [
      "Index 0: fig\n",
      "Index 1: elderberry\n",
      "Index 2: date\n",
      "Index 3: cherry\n",
      "Index 4: banana\n",
      "Index 5: apricot\n",
      "Index 6: apple\n"
     ]
    }
   ],
   "source": [
    "# Using enumerate()\n",
    "for index, fruit in enumerate(fruits):\n",
    "    print(f\"Index {index}: {fruit}\")\n"
   ]
  },
  {
   "cell_type": "markdown",
   "metadata": {},
   "source": [
    "Equivalent in JavaScript:\n",
    "\n",
    "```js\n",
    "  fruits.forEach((fruit, index) => {\n",
    "      console.log(`Index ${index}: ${fruit}`);\n",
    "  });\n",
    "```"
   ]
  },
  {
   "cell_type": "markdown",
   "metadata": {},
   "source": [
    "## Dictionaries in Python\n",
    "\n",
    "Dictionaries in Python are similar to objects in JavaScript. They store key-value pairs. This is one of the fastest data structures in Python for accessing values.\n",
    "\n",
    "### Creating and Using Dictionaries\n",
    "\n",
    "Dictionaries are defined using curly braces `{}` and keys and values are separated by commas similar to how you would define an object in JavaScript."
   ]
  },
  {
   "cell_type": "code",
   "execution_count": 24,
   "metadata": {},
   "outputs": [],
   "source": [
    "# Creating a dictionary\n",
    "person = {\n",
    "    \"name\": \"John\",\n",
    "    \"age\": 30,\n",
    "    \"city\": \"New York\"\n",
    "}\n"
   ]
  },
  {
   "cell_type": "markdown",
   "metadata": {},
   "source": [
    "### Accessing Values\n",
    "\n",
    "You can access the values in a dictionary using the keys."
   ]
  },
  {
   "cell_type": "code",
   "execution_count": 25,
   "metadata": {},
   "outputs": [
    {
     "name": "stdout",
     "output_type": "stream",
     "text": [
      "John\n"
     ]
    }
   ],
   "source": [
    "# Accessing values\n",
    "print(person[\"name\"])\n",
    "# output: John"
   ]
  },
  {
   "cell_type": "markdown",
   "metadata": {},
   "source": [
    "The preferred method to access dictionary values is using the `get` method. This method is safer because it will not raise an error if the key does not exist."
   ]
  },
  {
   "cell_type": "code",
   "execution_count": 26,
   "metadata": {},
   "outputs": [
    {
     "name": "stdout",
     "output_type": "stream",
     "text": [
      "30\n"
     ]
    }
   ],
   "source": [
    "print(person.get(\"age\"))  \n",
    "# output: 30\n",
    "# Safer method if key might not exist"
   ]
  },
  {
   "cell_type": "markdown",
   "metadata": {},
   "source": [
    "**Note:** You cannot use dot notation to access dictionary values in Python, you must use bracket notation.\n",
    "\n",
    "### Adding and Modifying Dictionary Values\n",
    "In order to add or modify a value in a dictionary you can use the same bracket notation."
   ]
  },
  {
   "cell_type": "code",
   "execution_count": 27,
   "metadata": {},
   "outputs": [
    {
     "name": "stdout",
     "output_type": "stream",
     "text": [
      "{'name': 'John', 'age': 31, 'job': 'Developer'}\n"
     ]
    }
   ],
   "source": [
    "# Adding or modifying entries\n",
    "person[\"job\"] = \"Developer\"\n",
    "person[\"age\"] = 31\n",
    "\n",
    "# Deleting entries\n",
    "del person[\"city\"]\n",
    "\n",
    "print(person)\n",
    "#output: {'name': 'John', 'age': 31, 'job': 'Developer'}"
   ]
  },
  {
   "cell_type": "markdown",
   "metadata": {},
   "source": [
    "Or you can use the `update` method."
   ]
  },
  {
   "cell_type": "code",
   "execution_count": 28,
   "metadata": {},
   "outputs": [
    {
     "name": "stdout",
     "output_type": "stream",
     "text": [
      "{'name': 'John', 'age': 31, 'job': 'Developer', 'height': 180, 'weight': 75}\n"
     ]
    }
   ],
   "source": [
    " # Using the update method\n",
    "person.update({\"height\": 180, \"weight\": 75})\n",
    "print(person)\n",
    "#output: {'name': 'John', 'age': 31, 'job': 'Developer', 'height': 180, 'weight': 75}"
   ]
  },
  {
   "cell_type": "markdown",
   "metadata": {},
   "source": [
    "### Dictionary Methods\n",
    "\n",
    "The `keys`, `values`, and `items` methods are used to get the keys, values, and items (key-value pairs) of a dictionary similar to Object.keys(), Object.values(), and Object.entries() in JavaScript."
   ]
  },
  {
   "cell_type": "code",
   "execution_count": 29,
   "metadata": {},
   "outputs": [
    {
     "name": "stdout",
     "output_type": "stream",
     "text": [
      "dict_keys(['name', 'age', 'job', 'height', 'weight'])\n",
      "dict_values(['John', 31, 'Developer', 180, 75])\n",
      "dict_items([('name', 'John'), ('age', 31), ('job', 'Developer'), ('height', 180), ('weight', 75)])\n"
     ]
    }
   ],
   "source": [
    "# Keys, values, and items\n",
    "print(person.keys())\n",
    "#output: dict_keys(['name', 'age', 'city', 'job', 'height', 'weight'])\n",
    "\n",
    "print(person.values())\n",
    "#output: dict_values(['John', 30, 'New York', 'Developer', 180, 75])\n",
    "\n",
    "print(person.items())\n",
    "#output: dict_items([('name', 'John'), ('age', 30), ('city', 'New York'), ('job', 'Developer'), ('height', 180), ('weight', 75)])   "
   ]
  },
  {
   "cell_type": "markdown",
   "metadata": {},
   "source": [
    "### Iterating Over Dictionaries\n",
    "\n",
    "You can iterate over a dictionary using a for loop and a for loop with the `items` method. The items method is the most efficient way to iterate over a dictionary."
   ]
  },
  {
   "cell_type": "code",
   "execution_count": 30,
   "metadata": {},
   "outputs": [
    {
     "name": "stdout",
     "output_type": "stream",
     "text": [
      "name: John\n",
      "age: 30\n"
     ]
    }
   ],
   "source": [
    "person = {\n",
    "    \"name\": \"John\",\n",
    "    \"age\": 30\n",
    "}\n",
    "\n",
    "\n",
    "# Iterating over a dictionary\n",
    "for key in person:\n",
    "    print(f\"{key}: {person[key]}\")\n",
    "#output:\n",
    "# name: John\n",
    "# age: 30"
   ]
  },
  {
   "cell_type": "markdown",
   "metadata": {},
   "source": [
    "You can also use the `items` method to iterate over a dictionary. The `items` method is the most efficient way to iterate over a dictionary. It returns a view object that displays a list of a dictionary's key-value tuple pairs."
   ]
  },
  {
   "cell_type": "code",
   "execution_count": 31,
   "metadata": {},
   "outputs": [
    {
     "name": "stdout",
     "output_type": "stream",
     "text": [
      "name: John\n",
      "age: 30\n"
     ]
    }
   ],
   "source": [
    "# Items method for key-value pairs\n",
    "for key, value in person.items():\n",
    "    print(f\"{key}: {value}\")\n",
    "\n",
    "#output:\n",
    "# name: John\n",
    "# age: 30\n"
   ]
  },
  {
   "cell_type": "markdown",
   "metadata": {},
   "source": [
    "## Summary\n",
    "\n",
    "This lesson provided an overview of Python's data structures and control flow concepts, with comparisons to JavaScript. It covered lists, tuples, dictionaries, and loops, providing a solid foundation for working with collections and iterating over data in Python.\n",
    "\n",
    "Now it's time to start building!\n",
    "\n",
    "If you are ready, your manager has an assignment for you!\n",
    "\n",
    "Here is the link to that assignment - [LINK](https://github.com/jdrichards-pursuit/week-4.2-python-practice)\n",
    "\n",
    "Good Luck!\n"
   ]
  }
 ],
 "metadata": {
  "kernelspec": {
   "display_name": "Python 3",
   "language": "python",
   "name": "python3"
  },
  "language_info": {
   "codemirror_mode": {
    "name": "ipython",
    "version": 3
   },
   "file_extension": ".py",
   "mimetype": "text/x-python",
   "name": "python",
   "nbconvert_exporter": "python",
   "pygments_lexer": "ipython3",
   "version": "3.12.6"
  }
 },
 "nbformat": 4,
 "nbformat_minor": 2
}
